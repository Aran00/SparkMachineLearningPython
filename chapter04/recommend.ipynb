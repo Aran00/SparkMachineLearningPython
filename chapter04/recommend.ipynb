{
 "cells": [
  {
   "cell_type": "code",
   "execution_count": 1,
   "metadata": {
    "collapsed": true
   },
   "outputs": [],
   "source": [
    "parentPath = \"/Users/Aran/Documents/workspace/MLExpDir/machine-learning-with-spark\""
   ]
  },
  {
   "cell_type": "code",
   "execution_count": 2,
   "metadata": {
    "collapsed": true
   },
   "outputs": [],
   "source": [
    "rawData = sc.textFile(\"%s/ml-100k/u.data\" % parentPath)"
   ]
  },
  {
   "cell_type": "code",
   "execution_count": 3,
   "metadata": {
    "collapsed": false
   },
   "outputs": [
    {
     "data": {
      "text/plain": [
       "u'196\\t242\\t3\\t881250949'"
      ]
     },
     "execution_count": 3,
     "metadata": {},
     "output_type": "execute_result"
    }
   ],
   "source": [
    "rawData.first()"
   ]
  },
  {
   "cell_type": "code",
   "execution_count": 4,
   "metadata": {
    "collapsed": true
   },
   "outputs": [],
   "source": [
    "rawRatings = rawData.map(lambda x: x.split(\"\\t\")[:3]) "
   ]
  },
  {
   "cell_type": "code",
   "execution_count": 5,
   "metadata": {
    "collapsed": false
   },
   "outputs": [
    {
     "data": {
      "text/plain": [
       "[u'196', u'242', u'3']"
      ]
     },
     "execution_count": 5,
     "metadata": {},
     "output_type": "execute_result"
    }
   ],
   "source": [
    "rawRatings.first()"
   ]
  },
  {
   "cell_type": "code",
   "execution_count": 6,
   "metadata": {
    "collapsed": false
   },
   "outputs": [],
   "source": [
    "from pyspark.mllib.recommendation import ALS, Rating"
   ]
  },
  {
   "cell_type": "code",
   "execution_count": 7,
   "metadata": {
    "collapsed": false
   },
   "outputs": [],
   "source": [
    "ratings = rawRatings.map(lambda x: Rating(int(x[0]), int(x[1]), float(x[2])))"
   ]
  },
  {
   "cell_type": "code",
   "execution_count": 8,
   "metadata": {
    "collapsed": false
   },
   "outputs": [
    {
     "data": {
      "text/plain": [
       "Rating(user=196, product=242, rating=3.0)"
      ]
     },
     "execution_count": 8,
     "metadata": {},
     "output_type": "execute_result"
    }
   ],
   "source": [
    "ratings.first()"
   ]
  },
  {
   "cell_type": "code",
   "execution_count": 9,
   "metadata": {
    "collapsed": true
   },
   "outputs": [],
   "source": [
    "rank = 50  # The rank of factor matrix\n",
    "iterations = 10\n",
    "lamda = 0.01\n",
    "model = ALS.train(ratings, rank, iterations, lamda)"
   ]
  },
  {
   "cell_type": "code",
   "execution_count": 10,
   "metadata": {
    "collapsed": false
   },
   "outputs": [],
   "source": [
    "userFeatures = model.userFeatures()"
   ]
  },
  {
   "cell_type": "code",
   "execution_count": 11,
   "metadata": {
    "collapsed": false
   },
   "outputs": [
    {
     "data": {
      "text/plain": [
       "943"
      ]
     },
     "execution_count": 11,
     "metadata": {},
     "output_type": "execute_result"
    }
   ],
   "source": [
    "userFeatures.count()"
   ]
  },
  {
   "cell_type": "code",
   "execution_count": 12,
   "metadata": {
    "collapsed": false
   },
   "outputs": [
    {
     "data": {
      "text/plain": [
       "2.4851097695635453"
      ]
     },
     "execution_count": 12,
     "metadata": {},
     "output_type": "execute_result"
    }
   ],
   "source": [
    "model.predict(789, 123)"
   ]
  },
  {
   "cell_type": "code",
   "execution_count": 13,
   "metadata": {
    "collapsed": false
   },
   "outputs": [
    {
     "data": {
      "text/plain": [
       "PythonRDD[6] at RDD at PythonRDD.scala:43"
      ]
     },
     "execution_count": 13,
     "metadata": {},
     "output_type": "execute_result"
    }
   ],
   "source": [
    "ratings"
   ]
  },
  {
   "cell_type": "code",
   "execution_count": 14,
   "metadata": {
    "collapsed": false
   },
   "outputs": [],
   "source": [
    "from pyspark.rdd import RDD"
   ]
  },
  {
   "cell_type": "code",
   "execution_count": 15,
   "metadata": {
    "collapsed": true
   },
   "outputs": [],
   "source": [
    "?RDD.count"
   ]
  },
  {
   "cell_type": "code",
   "execution_count": 16,
   "metadata": {
    "collapsed": true
   },
   "outputs": [],
   "source": [
    "userId = 789\n",
    "K = 10\n",
    "topKRecs = model.recommendProducts(userId, K)"
   ]
  },
  {
   "cell_type": "code",
   "execution_count": 17,
   "metadata": {
    "collapsed": false
   },
   "outputs": [
    {
     "data": {
      "text/plain": [
       "[Rating(user=789, product=192, rating=5.914977114560879),\n",
       " Rating(user=789, product=429, rating=5.426148504193856),\n",
       " Rating(user=789, product=187, rating=5.4138449324295985),\n",
       " Rating(user=789, product=663, rating=5.343478689987497),\n",
       " Rating(user=789, product=675, rating=5.302221323375578),\n",
       " Rating(user=789, product=32, rating=5.192621350002867),\n",
       " Rating(user=789, product=108, rating=5.14498958808262),\n",
       " Rating(user=789, product=661, rating=5.133586034482052),\n",
       " Rating(user=789, product=511, rating=5.132557695056045),\n",
       " Rating(user=789, product=521, rating=5.1323243269839285)]"
      ]
     },
     "execution_count": 17,
     "metadata": {},
     "output_type": "execute_result"
    }
   ],
   "source": [
    "topKRecs"
   ]
  },
  {
   "cell_type": "code",
   "execution_count": 18,
   "metadata": {
    "collapsed": true
   },
   "outputs": [],
   "source": [
    "movies = sc.textFile(\"%s/ml-100k/u.item\" % parentPath)"
   ]
  },
  {
   "cell_type": "code",
   "execution_count": 19,
   "metadata": {
    "collapsed": false
   },
   "outputs": [],
   "source": [
    "titles = movies.map(lambda line: line.split(\"|\")[:2]).map(lambda array: (int(array[0]), array[1])).collectAsMap()"
   ]
  },
  {
   "cell_type": "code",
   "execution_count": 20,
   "metadata": {
    "collapsed": false
   },
   "outputs": [
    {
     "data": {
      "text/plain": [
       "u'Frighteners, The (1996)'"
      ]
     },
     "execution_count": 20,
     "metadata": {},
     "output_type": "execute_result"
    }
   ],
   "source": [
    "titles[123]"
   ]
  },
  {
   "cell_type": "code",
   "execution_count": 21,
   "metadata": {
    "collapsed": true
   },
   "outputs": [],
   "source": [
    "moviesForUser = ratings.keyBy(lambda rating: rating.user).lookup(789)"
   ]
  },
  {
   "cell_type": "code",
   "execution_count": 22,
   "metadata": {
    "collapsed": false
   },
   "outputs": [
    {
     "data": {
      "text/plain": [
       "33"
      ]
     },
     "execution_count": 22,
     "metadata": {},
     "output_type": "execute_result"
    }
   ],
   "source": [
    "len(moviesForUser)"
   ]
  },
  {
   "cell_type": "code",
   "execution_count": 23,
   "metadata": {
    "collapsed": false
   },
   "outputs": [
    {
     "data": {
      "text/plain": [
       "Rating(user=789, product=1012, rating=4.0)"
      ]
     },
     "execution_count": 23,
     "metadata": {},
     "output_type": "execute_result"
    }
   ],
   "source": [
    "moviesForUser[0]"
   ]
  },
  {
   "cell_type": "code",
   "execution_count": 24,
   "metadata": {
    "collapsed": false
   },
   "outputs": [
    {
     "name": "stdout",
     "output_type": "stream",
     "text": [
      "(u'Godfather, The (1972)', 5.0)\n",
      "(u'Trainspotting (1996)', 5.0)\n",
      "(u'Dead Man Walking (1995)', 5.0)\n",
      "(u'Star Wars (1977)', 5.0)\n",
      "(u'Swingers (1996)', 5.0)\n",
      "(u'Leaving Las Vegas (1995)', 5.0)\n",
      "(u'Bound (1996)', 5.0)\n",
      "(u'Fargo (1996)', 5.0)\n",
      "(u'Last Supper, The (1995)', 5.0)\n",
      "(u'Private Parts (1997)', 4.0)\n"
     ]
    }
   ],
   "source": [
    "topKRateTemp = sorted(moviesForUser, key=lambda rating: rating.rating, reverse=True)[:10]\n",
    "topKRating = [(titles[rating.product], rating.rating) for rating in topKRateTemp]\n",
    "for item in topKRating:\n",
    "    print item "
   ]
  },
  {
   "cell_type": "code",
   "execution_count": 25,
   "metadata": {
    "collapsed": false
   },
   "outputs": [
    {
     "name": "stdout",
     "output_type": "stream",
     "text": [
      "(u'Raging Bull (1980)', 5.914977114560879)\n",
      "(u'Day the Earth Stood Still, The (1951)', 5.426148504193856)\n",
      "(u'Godfather: Part II, The (1974)', 5.4138449324295985)\n",
      "(u'Being There (1979)', 5.343478689987497)\n",
      "(u'Nosferatu (Nosferatu, eine Symphonie des Grauens) (1922)', 5.302221323375578)\n",
      "(u'Crumb (1994)', 5.192621350002867)\n",
      "(u'Kids in the Hall: Brain Candy (1996)', 5.14498958808262)\n",
      "(u'High Noon (1952)', 5.133586034482052)\n",
      "(u'Lawrence of Arabia (1962)', 5.132557695056045)\n",
      "(u'Deer Hunter, The (1978)', 5.1323243269839285)\n"
     ]
    }
   ],
   "source": [
    "topKRecsTemp = [(titles[rating.product], rating.rating) for rating in topKRecs]\n",
    "for item in topKRecsTemp:\n",
    "    print item"
   ]
  },
  {
   "cell_type": "code",
   "execution_count": 26,
   "metadata": {
    "collapsed": false
   },
   "outputs": [],
   "source": [
    "import numpy as np\n",
    "a = np.array([[1, 2, 3]])\n",
    "b = np.array([[1], [2], [3]])"
   ]
  },
  {
   "cell_type": "code",
   "execution_count": 27,
   "metadata": {
    "collapsed": false
   },
   "outputs": [
    {
     "data": {
      "text/plain": [
       "(3, 1)"
      ]
     },
     "execution_count": 27,
     "metadata": {},
     "output_type": "execute_result"
    }
   ],
   "source": [
    "b.shape"
   ]
  },
  {
   "cell_type": "code",
   "execution_count": 28,
   "metadata": {
    "collapsed": false
   },
   "outputs": [
    {
     "data": {
      "text/plain": [
       "array([[1, 2, 3],\n",
       "       [2, 4, 6],\n",
       "       [3, 6, 9]])"
      ]
     },
     "execution_count": 28,
     "metadata": {},
     "output_type": "execute_result"
    }
   ],
   "source": [
    "b.dot(a)"
   ]
  },
  {
   "cell_type": "code",
   "execution_count": 29,
   "metadata": {
    "collapsed": false
   },
   "outputs": [
    {
     "name": "stdout",
     "output_type": "stream",
     "text": [
      "13.0\n",
      "47\n"
     ]
    }
   ],
   "source": [
    "c = np.array([3,4,12])\n",
    "print np.linalg.norm(c)\n",
    "d = np.array([1, 2, 3])\n",
    "print np.dot(c, d)"
   ]
  },
  {
   "cell_type": "code",
   "execution_count": 30,
   "metadata": {
    "collapsed": true
   },
   "outputs": [],
   "source": [
    "# Assume the parameters are all 1-d ndarray\n",
    "def cosineSimilarity(vec1, vec2):\n",
    "    return np.dot(vec1, vec2)/(np.linalg.norm(vec1)*np.linalg.norm(vec2)) "
   ]
  },
  {
   "cell_type": "code",
   "execution_count": 31,
   "metadata": {
    "collapsed": false
   },
   "outputs": [
    {
     "data": {
      "text/plain": [
       "1.0"
      ]
     },
     "execution_count": 31,
     "metadata": {},
     "output_type": "execute_result"
    }
   ],
   "source": [
    "cosineSimilarity(c, c)"
   ]
  },
  {
   "cell_type": "code",
   "execution_count": 32,
   "metadata": {
    "collapsed": true
   },
   "outputs": [],
   "source": [
    "?RDD.lookup"
   ]
  },
  {
   "cell_type": "code",
   "execution_count": 33,
   "metadata": {
    "collapsed": false
   },
   "outputs": [
    {
     "data": {
      "text/plain": [
       "[2, 3]"
      ]
     },
     "execution_count": 33,
     "metadata": {},
     "output_type": "execute_result"
    }
   ],
   "source": [
    "rdd = sc.parallelize([(1,2), (1,3)],2)\n",
    "rdd.lookup(1)"
   ]
  },
  {
   "cell_type": "code",
   "execution_count": 34,
   "metadata": {
    "collapsed": true
   },
   "outputs": [],
   "source": [
    "itemId = 567\n",
    "# The lookup result only has one item, which is the item factor\n",
    "productFeatures = model.productFeatures()\n",
    "itemVector = productFeatures.lookup(itemId)[0]"
   ]
  },
  {
   "cell_type": "code",
   "execution_count": 35,
   "metadata": {
    "collapsed": false
   },
   "outputs": [
    {
     "data": {
      "text/plain": [
       "array('d', [0.891995906829834, -0.5106445550918579, 0.13697193562984467, -0.21415044367313385, 0.402266263961792, -0.08696794509887695, 0.2693471610546112, -0.5349130034446716, 1.7306143045425415, -0.5012935996055603, -0.3326531946659088, 0.38982290029525757, -0.5004117488861084, -1.4292975664138794, 0.24958425760269165, 0.6228033304214478, -0.43864649534225464, 0.4975425601005554, 0.5161775350570679, 0.5634575486183167, 0.10650111734867096, 0.157758429646492, 0.012060972861945629, 0.5797746181488037, 0.28802481293678284, -0.505713164806366, -0.13843928277492523, 0.06099162995815277, 0.01486317440867424, -0.3673551082611084, 0.2579803764820099, -0.5968518257141113, 0.3906335234642029, 0.35944733023643494, -0.05501624941825867, -0.32503125071525574, -0.5100358724594116, -0.0689019113779068, -0.008764437399804592, -0.32559749484062195, 0.9317123293876648, 0.6578829288482666, -0.17786917090415955, -0.6433614492416382, 1.3173636198043823, 1.1199944019317627, -0.06760596483945847, 0.31622764468193054, 0.4630185067653656, -0.5890501141548157])"
      ]
     },
     "execution_count": 35,
     "metadata": {},
     "output_type": "execute_result"
    }
   ],
   "source": [
    "itemVector"
   ]
  },
  {
   "cell_type": "code",
   "execution_count": 36,
   "metadata": {
    "collapsed": false
   },
   "outputs": [
    {
     "data": {
      "text/plain": [
       "0.99999999999999978"
      ]
     },
     "execution_count": 36,
     "metadata": {},
     "output_type": "execute_result"
    }
   ],
   "source": [
    "cosineSimilarity(itemVector, itemVector)"
   ]
  },
  {
   "cell_type": "code",
   "execution_count": 37,
   "metadata": {
    "collapsed": true
   },
   "outputs": [],
   "source": [
    "sims = productFeatures.map(lambda itemFeature: (itemFeature[0], cosineSimilarity(itemFeature[1], itemVector)))"
   ]
  },
  {
   "cell_type": "code",
   "execution_count": 38,
   "metadata": {
    "collapsed": false
   },
   "outputs": [
    {
     "data": {
      "text/plain": [
       "(8, 0.56101400562089143)"
      ]
     },
     "execution_count": 38,
     "metadata": {},
     "output_type": "execute_result"
    }
   ],
   "source": [
    "sims.first()"
   ]
  },
  {
   "cell_type": "code",
   "execution_count": 39,
   "metadata": {
    "collapsed": false
   },
   "outputs": [],
   "source": [
    "sortedSims = sims.takeOrdered(K, key=lambda x: -x[1])"
   ]
  },
  {
   "cell_type": "code",
   "execution_count": 40,
   "metadata": {
    "collapsed": false
   },
   "outputs": [
    {
     "data": {
      "text/plain": [
       "[(567, 0.99999999999999978),\n",
       " (349, 0.68876136028135715),\n",
       " (563, 0.68292533107866948),\n",
       " (183, 0.68021911057140749),\n",
       " (433, 0.68017110002588799),\n",
       " (323, 0.6737082347194826),\n",
       " (201, 0.67336613176037441),\n",
       " (1083, 0.67145430130942085),\n",
       " (219, 0.66558034918890285),\n",
       " (195, 0.66555767436390623)]"
      ]
     },
     "execution_count": 40,
     "metadata": {},
     "output_type": "execute_result"
    }
   ],
   "source": [
    "sortedSims"
   ]
  },
  {
   "cell_type": "code",
   "execution_count": 41,
   "metadata": {
    "collapsed": false
   },
   "outputs": [
    {
     "data": {
      "text/plain": [
       "u\"Wes Craven's New Nightmare (1994)\""
      ]
     },
     "execution_count": 41,
     "metadata": {},
     "output_type": "execute_result"
    }
   ],
   "source": [
    "titles[itemId]"
   ]
  },
  {
   "cell_type": "code",
   "execution_count": 42,
   "metadata": {
    "collapsed": false
   },
   "outputs": [
    {
     "data": {
      "text/plain": [
       "[(u'Hard Rain (1998)', 0.68876136028135715),\n",
       " (u\"Stephen King's The Langoliers (1995)\", 0.68292533107866948),\n",
       " (u'Alien (1979)', 0.68021911057140749),\n",
       " (u'Heathers (1989)', 0.68017110002588799),\n",
       " (u\"Dante's Peak (1997)\", 0.6737082347194826),\n",
       " (u'Evil Dead II (1987)', 0.67336613176037441),\n",
       " (u'Albino Alligator (1996)', 0.67145430130942085),\n",
       " (u'Nightmare on Elm Street, A (1984)', 0.66558034918890296),\n",
       " (u'Terminator, The (1984)', 0.66555767436390623),\n",
       " (u'Fierce Creatures (1997)', 0.65982079382944425)]"
      ]
     },
     "execution_count": 42,
     "metadata": {},
     "output_type": "execute_result"
    }
   ],
   "source": [
    "sortedSims2 = sims.takeOrdered(K+1, key=lambda x: -x[1])\n",
    "[(titles[item[0]], item[1]) for item in sortedSims2[1:]]"
   ]
  },
  {
   "cell_type": "code",
   "execution_count": 43,
   "metadata": {
    "collapsed": false
   },
   "outputs": [],
   "source": [
    "actualRating = moviesForUser[0]"
   ]
  },
  {
   "cell_type": "code",
   "execution_count": 44,
   "metadata": {
    "collapsed": false
   },
   "outputs": [],
   "source": [
    "predictedRating = model.predict(789, actualRating.product)"
   ]
  },
  {
   "cell_type": "code",
   "execution_count": 45,
   "metadata": {
    "collapsed": false
   },
   "outputs": [
    {
     "data": {
      "text/plain": [
       "4.033903800290711"
      ]
     },
     "execution_count": 45,
     "metadata": {},
     "output_type": "execute_result"
    }
   ],
   "source": [
    "predictedRating"
   ]
  },
  {
   "cell_type": "code",
   "execution_count": 46,
   "metadata": {
    "collapsed": true
   },
   "outputs": [],
   "source": [
    "squaredError = np.square(predictedRating - actualRating.rating)"
   ]
  },
  {
   "cell_type": "code",
   "execution_count": 47,
   "metadata": {
    "collapsed": false
   },
   "outputs": [
    {
     "data": {
      "text/plain": [
       "0.0011494676741523886"
      ]
     },
     "execution_count": 47,
     "metadata": {},
     "output_type": "execute_result"
    }
   ],
   "source": [
    "squaredError"
   ]
  },
  {
   "cell_type": "code",
   "execution_count": 48,
   "metadata": {
    "collapsed": false
   },
   "outputs": [
    {
     "data": {
      "text/plain": [
       "Rating(user=196, product=242, rating=3.0)"
      ]
     },
     "execution_count": 48,
     "metadata": {},
     "output_type": "execute_result"
    }
   ],
   "source": [
    "ratings.first()"
   ]
  },
  {
   "cell_type": "code",
   "execution_count": 49,
   "metadata": {
    "collapsed": false
   },
   "outputs": [],
   "source": [
    "usersProducts = ratings.map(lambda rating: (rating.user, rating.product))\n",
    "predictions = model.predictAll(usersProducts).map(lambda rating: ((rating.user, rating.product), rating.rating))"
   ]
  },
  {
   "cell_type": "code",
   "execution_count": 50,
   "metadata": {
    "collapsed": false
   },
   "outputs": [],
   "source": [
    "ratingsAndPredictions = ratings.map(lambda rating: ((rating.user, rating.product), rating.rating)).join(predictions)"
   ]
  },
  {
   "cell_type": "code",
   "execution_count": 51,
   "metadata": {
    "collapsed": false
   },
   "outputs": [
    {
     "data": {
      "text/plain": [
       "((360, 14), (5.0, 4.8398683566215315))"
      ]
     },
     "execution_count": 51,
     "metadata": {},
     "output_type": "execute_result"
    }
   ],
   "source": [
    "ratingsAndPredictions.first()"
   ]
  },
  {
   "cell_type": "code",
   "execution_count": 52,
   "metadata": {
    "collapsed": true
   },
   "outputs": [],
   "source": [
    "MSE = ratingsAndPredictions.map(lambda x: np.square(x[1][0] - x[1][1])).reduce(lambda x, y: x+y)/ratingsAndPredictions.count()"
   ]
  },
  {
   "cell_type": "code",
   "execution_count": 53,
   "metadata": {
    "collapsed": false
   },
   "outputs": [
    {
     "data": {
      "text/plain": [
       "0.29066364460079852"
      ]
     },
     "execution_count": 53,
     "metadata": {},
     "output_type": "execute_result"
    }
   ],
   "source": [
    "np.sqrt(MSE)"
   ]
  },
  {
   "cell_type": "code",
   "execution_count": 54,
   "metadata": {
    "collapsed": false
   },
   "outputs": [
    {
     "name": "stdout",
     "output_type": "stream",
     "text": [
      "0 1\n",
      "1 2\n",
      "2 3\n"
     ]
    }
   ],
   "source": [
    "abc = [1,2,3]\n",
    "for i, a in enumerate(abc):\n",
    "    print i,a"
   ]
  },
  {
   "cell_type": "code",
   "execution_count": 55,
   "metadata": {
    "collapsed": true
   },
   "outputs": [],
   "source": [
    "def avgPrecisionK(actual, predicted, k):\n",
    "    predK = predicted[:k]\n",
    "    score = 0.0\n",
    "    numHits = 0.0\n",
    "    for i, p in enumerate(predK):\n",
    "        if p in actual:\n",
    "            numHits += 1.0\n",
    "            score += numHits / (i + 1.0)\n",
    "    if len(actual) == 0:\n",
    "        return 1.0\n",
    "    else:\n",
    "        return score/min(len(actual), k)"
   ]
  },
  {
   "cell_type": "code",
   "execution_count": 56,
   "metadata": {
    "collapsed": false
   },
   "outputs": [],
   "source": [
    "actualMovies = [rating.product for rating in moviesForUser]\n",
    "predictedMovies = [rating.product for rating in topKRecs]"
   ]
  },
  {
   "cell_type": "code",
   "execution_count": 57,
   "metadata": {
    "collapsed": false
   },
   "outputs": [
    {
     "data": {
      "text/plain": [
       "0.0"
      ]
     },
     "execution_count": 57,
     "metadata": {},
     "output_type": "execute_result"
    }
   ],
   "source": [
    "avgPrecisionK(actualMovies, predictedMovies, 10)"
   ]
  },
  {
   "cell_type": "code",
   "execution_count": 58,
   "metadata": {
    "collapsed": false
   },
   "outputs": [
    {
     "data": {
      "text/plain": [
       "(1682, 50)"
      ]
     },
     "execution_count": 58,
     "metadata": {},
     "output_type": "execute_result"
    }
   ],
   "source": [
    "itemFactors = model.productFeatures().map(lambda idAndFactor: idAndFactor[1]).collect()\n",
    "itemMatrix = np.array(itemFactors)\n",
    "itemMatrix.shape"
   ]
  },
  {
   "cell_type": "code",
   "execution_count": 59,
   "metadata": {
    "collapsed": true
   },
   "outputs": [],
   "source": [
    "imBroadcast = sc.broadcast(itemMatrix)"
   ]
  },
  {
   "cell_type": "code",
   "execution_count": 60,
   "metadata": {
    "collapsed": true
   },
   "outputs": [],
   "source": [
    "def getRecommendIds(userIdAndFactor):\n",
    "    userVector = np.array(userIdAndFactor[1])\n",
    "    scores = np.dot(imBroadcast.value, userVector)\n",
    "    sortedWithId = sorted([(score, i) for i, score in enumerate(scores)], key=lambda x: -x[0])\n",
    "    recommendedIds = [(index+1) for score, index in sortedWithId]\n",
    "    return (userIdAndFactor[0], recommendedIds)"
   ]
  },
  {
   "cell_type": "code",
   "execution_count": 61,
   "metadata": {
    "collapsed": true
   },
   "outputs": [],
   "source": [
    "allRecs = model.userFeatures().map(lambda userIdAndFactor: getRecommendIds(userIdAndFactor))"
   ]
  },
  {
   "cell_type": "code",
   "execution_count": 62,
   "metadata": {
    "collapsed": false
   },
   "outputs": [],
   "source": [
    "userMovies = ratings.map(lambda rating: (rating.user, rating.product)).groupBy(lambda x: x[0])"
   ]
  },
  {
   "cell_type": "code",
   "execution_count": 63,
   "metadata": {
    "collapsed": true
   },
   "outputs": [],
   "source": [
    "def getMAPK(k):\n",
    "    return allRecs.join(userMovies).map(lambda x: avgPrecisionK([y[1] for y in x[1][1]], x[1][0], k)).reduce(lambda x, y: x+y)/allRecs.count()"
   ]
  },
  {
   "cell_type": "code",
   "execution_count": 64,
   "metadata": {
    "collapsed": false
   },
   "outputs": [
    {
     "data": {
      "text/plain": [
       "0.030451404669326186"
      ]
     },
     "execution_count": 64,
     "metadata": {},
     "output_type": "execute_result"
    }
   ],
   "source": [
    "getMAPK(K)"
   ]
  },
  {
   "cell_type": "code",
   "execution_count": 65,
   "metadata": {
    "collapsed": true
   },
   "outputs": [],
   "source": [
    "from pyspark.mllib.evaluation import RegressionMetrics"
   ]
  },
  {
   "cell_type": "code",
   "execution_count": 66,
   "metadata": {
    "collapsed": false
   },
   "outputs": [],
   "source": [
    "predictedAndTrue = ratingsAndPredictions.map(lambda x: x[1])\n",
    "regressionMetrics = RegressionMetrics(predictedAndTrue)"
   ]
  },
  {
   "cell_type": "code",
   "execution_count": 67,
   "metadata": {
    "collapsed": false
   },
   "outputs": [
    {
     "name": "stdout",
     "output_type": "stream",
     "text": [
      "Mean Squared Error = 0.084485\n",
      "Root Mean Squared Error = 0.290664\n"
     ]
    }
   ],
   "source": [
    "print \"Mean Squared Error = %f\" % regressionMetrics.meanSquaredError\n",
    "print \"Root Mean Squared Error = %f\" % regressionMetrics.rootMeanSquaredError"
   ]
  },
  {
   "cell_type": "code",
   "execution_count": 68,
   "metadata": {
    "collapsed": true
   },
   "outputs": [],
   "source": [
    "from pyspark.mllib.evaluation import RankingMetrics"
   ]
  },
  {
   "cell_type": "code",
   "execution_count": 69,
   "metadata": {
    "collapsed": false
   },
   "outputs": [
    {
     "data": {
      "text/plain": [
       "[(2, 292)]"
      ]
     },
     "execution_count": 69,
     "metadata": {},
     "output_type": "execute_result"
    }
   ],
   "source": [
    "list(userMovies.first()[1])[:1]"
   ]
  },
  {
   "cell_type": "code",
   "execution_count": 70,
   "metadata": {
    "collapsed": true
   },
   "outputs": [],
   "source": [
    "predictedAndTrueForRanking = allRecs.join(userMovies).map(lambda x: (x[1][0], [y[1] for y in x[1][1]]))"
   ]
  },
  {
   "cell_type": "code",
   "execution_count": 71,
   "metadata": {
    "collapsed": false
   },
   "outputs": [
    {
     "name": "stdout",
     "output_type": "stream",
     "text": [
      "Mean Average Precision = 0.071669\n"
     ]
    }
   ],
   "source": [
    "rankingMetrics = RankingMetrics(predictedAndTrueForRanking)\n",
    "print \"Mean Average Precision = %f\" % rankingMetrics.meanAveragePrecision"
   ]
  },
  {
   "cell_type": "code",
   "execution_count": 72,
   "metadata": {
    "collapsed": false
   },
   "outputs": [
    {
     "data": {
      "text/plain": [
       "0.0716694171640423"
      ]
     },
     "execution_count": 72,
     "metadata": {},
     "output_type": "execute_result"
    }
   ],
   "source": [
    "getMAPK(2000)"
   ]
  }
 ],
 "metadata": {
  "kernelspec": {
   "display_name": "PySpark (Spark 1.6.1)",
   "language": "python",
   "name": "pyspark"
  },
  "language_info": {
   "codemirror_mode": {
    "name": "ipython",
    "version": 2
   },
   "file_extension": ".py",
   "mimetype": "text/x-python",
   "name": "python",
   "nbconvert_exporter": "python",
   "pygments_lexer": "ipython2",
   "version": "2.7.11"
  }
 },
 "nbformat": 4,
 "nbformat_minor": 0
}
