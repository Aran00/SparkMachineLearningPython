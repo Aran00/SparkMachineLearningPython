{
 "cells": [
  {
   "cell_type": "code",
   "execution_count": 94,
   "metadata": {
    "collapsed": true
   },
   "outputs": [],
   "source": [
    "parentPath = \"/Users/Aran/Documents/workspace/MLExpDir/machine-learning-with-spark\""
   ]
  },
  {
   "cell_type": "code",
   "execution_count": 95,
   "metadata": {
    "collapsed": true
   },
   "outputs": [],
   "source": [
    "rawData = sc.textFile(\"%s/ml-100k/u.data\" % parentPath)"
   ]
  },
  {
   "cell_type": "code",
   "execution_count": 96,
   "metadata": {
    "collapsed": false
   },
   "outputs": [
    {
     "data": {
      "text/plain": [
       "u'196\\t242\\t3\\t881250949'"
      ]
     },
     "execution_count": 96,
     "metadata": {},
     "output_type": "execute_result"
    }
   ],
   "source": [
    "rawData.first()"
   ]
  },
  {
   "cell_type": "code",
   "execution_count": 97,
   "metadata": {
    "collapsed": true
   },
   "outputs": [],
   "source": [
    "rawRatings = rawData.map(lambda x: x.split(\"\\t\")[:3]) "
   ]
  },
  {
   "cell_type": "code",
   "execution_count": 98,
   "metadata": {
    "collapsed": false
   },
   "outputs": [
    {
     "data": {
      "text/plain": [
       "[u'196', u'242', u'3']"
      ]
     },
     "execution_count": 98,
     "metadata": {},
     "output_type": "execute_result"
    }
   ],
   "source": [
    "rawRatings.first()"
   ]
  },
  {
   "cell_type": "code",
   "execution_count": 99,
   "metadata": {
    "collapsed": false
   },
   "outputs": [],
   "source": [
    "from pyspark.mllib.recommendation import ALS, Rating"
   ]
  },
  {
   "cell_type": "code",
   "execution_count": 100,
   "metadata": {
    "collapsed": false
   },
   "outputs": [],
   "source": [
    "ratings = rawRatings.map(lambda x: Rating(int(x[0]), int(x[1]), float(x[2])))"
   ]
  },
  {
   "cell_type": "code",
   "execution_count": 101,
   "metadata": {
    "collapsed": false
   },
   "outputs": [
    {
     "data": {
      "text/plain": [
       "Rating(user=196, product=242, rating=3.0)"
      ]
     },
     "execution_count": 101,
     "metadata": {},
     "output_type": "execute_result"
    }
   ],
   "source": [
    "ratings.first()"
   ]
  },
  {
   "cell_type": "code",
   "execution_count": 102,
   "metadata": {
    "collapsed": true
   },
   "outputs": [],
   "source": [
    "rank = 50  # The rank of factor matrix\n",
    "iterations = 10\n",
    "lamda = 0.01\n",
    "model = ALS.train(ratings, rank, iterations, lamda)"
   ]
  },
  {
   "cell_type": "code",
   "execution_count": 103,
   "metadata": {
    "collapsed": false
   },
   "outputs": [],
   "source": [
    "userFeatures = model.userFeatures()"
   ]
  },
  {
   "cell_type": "code",
   "execution_count": 104,
   "metadata": {
    "collapsed": false
   },
   "outputs": [
    {
     "data": {
      "text/plain": [
       "943"
      ]
     },
     "execution_count": 104,
     "metadata": {},
     "output_type": "execute_result"
    }
   ],
   "source": [
    "userFeatures.count()"
   ]
  },
  {
   "cell_type": "code",
   "execution_count": 105,
   "metadata": {
    "collapsed": false
   },
   "outputs": [
    {
     "data": {
      "text/plain": [
       "3.2791106471124336"
      ]
     },
     "execution_count": 105,
     "metadata": {},
     "output_type": "execute_result"
    }
   ],
   "source": [
    "model.predict(789, 123)"
   ]
  },
  {
   "cell_type": "code",
   "execution_count": 106,
   "metadata": {
    "collapsed": false
   },
   "outputs": [
    {
     "data": {
      "text/plain": [
       "PythonRDD[355] at RDD at PythonRDD.scala:43"
      ]
     },
     "execution_count": 106,
     "metadata": {},
     "output_type": "execute_result"
    }
   ],
   "source": [
    "ratings"
   ]
  },
  {
   "cell_type": "code",
   "execution_count": 107,
   "metadata": {
    "collapsed": false
   },
   "outputs": [],
   "source": [
    "from pyspark.rdd import RDD"
   ]
  },
  {
   "cell_type": "code",
   "execution_count": 108,
   "metadata": {
    "collapsed": true
   },
   "outputs": [],
   "source": [
    "?RDD.count"
   ]
  },
  {
   "cell_type": "code",
   "execution_count": 109,
   "metadata": {
    "collapsed": true
   },
   "outputs": [],
   "source": [
    "userId = 789\n",
    "K = 10\n",
    "topKRecs = model.recommendProducts(userId, K)"
   ]
  },
  {
   "cell_type": "code",
   "execution_count": 110,
   "metadata": {
    "collapsed": false
   },
   "outputs": [
    {
     "data": {
      "text/plain": [
       "[Rating(user=789, product=56, rating=6.072091732599815),\n",
       " Rating(user=789, product=48, rating=5.6514227162111075),\n",
       " Rating(user=789, product=432, rating=5.458713568005688),\n",
       " Rating(user=789, product=169, rating=5.404534251556337),\n",
       " Rating(user=789, product=611, rating=5.398141708644376),\n",
       " Rating(user=789, product=663, rating=5.36904033650295),\n",
       " Rating(user=789, product=182, rating=5.2728616441310745),\n",
       " Rating(user=789, product=520, rating=5.25214260675391),\n",
       " Rating(user=789, product=641, rating=5.245544227971014),\n",
       " Rating(user=789, product=346, rating=5.237747159323677)]"
      ]
     },
     "execution_count": 110,
     "metadata": {},
     "output_type": "execute_result"
    }
   ],
   "source": [
    "topKRecs"
   ]
  },
  {
   "cell_type": "code",
   "execution_count": 111,
   "metadata": {
    "collapsed": true
   },
   "outputs": [],
   "source": [
    "movies = sc.textFile(\"%s/ml-100k/u.item\" % parentPath)"
   ]
  },
  {
   "cell_type": "code",
   "execution_count": 112,
   "metadata": {
    "collapsed": false
   },
   "outputs": [],
   "source": [
    "titles = movies.map(lambda line: line.split(\"|\")[:2]).map(lambda array: (int(array[0]), array[1])).collectAsMap()"
   ]
  },
  {
   "cell_type": "code",
   "execution_count": 113,
   "metadata": {
    "collapsed": false
   },
   "outputs": [
    {
     "data": {
      "text/plain": [
       "u'Frighteners, The (1996)'"
      ]
     },
     "execution_count": 113,
     "metadata": {},
     "output_type": "execute_result"
    }
   ],
   "source": [
    "titles[123]"
   ]
  },
  {
   "cell_type": "code",
   "execution_count": 114,
   "metadata": {
    "collapsed": true
   },
   "outputs": [],
   "source": [
    "moviesForUser = ratings.keyBy(lambda rating: rating.user).lookup(789)"
   ]
  },
  {
   "cell_type": "code",
   "execution_count": 115,
   "metadata": {
    "collapsed": false
   },
   "outputs": [
    {
     "data": {
      "text/plain": [
       "33"
      ]
     },
     "execution_count": 115,
     "metadata": {},
     "output_type": "execute_result"
    }
   ],
   "source": [
    "len(moviesForUser)"
   ]
  },
  {
   "cell_type": "code",
   "execution_count": 116,
   "metadata": {
    "collapsed": false
   },
   "outputs": [
    {
     "data": {
      "text/plain": [
       "Rating(user=789, product=1012, rating=4.0)"
      ]
     },
     "execution_count": 116,
     "metadata": {},
     "output_type": "execute_result"
    }
   ],
   "source": [
    "moviesForUser[0]"
   ]
  },
  {
   "cell_type": "code",
   "execution_count": 117,
   "metadata": {
    "collapsed": false
   },
   "outputs": [
    {
     "name": "stdout",
     "output_type": "stream",
     "text": [
      "(u'Godfather, The (1972)', 5.0)\n",
      "(u'Trainspotting (1996)', 5.0)\n",
      "(u'Dead Man Walking (1995)', 5.0)\n",
      "(u'Star Wars (1977)', 5.0)\n",
      "(u'Swingers (1996)', 5.0)\n",
      "(u'Leaving Las Vegas (1995)', 5.0)\n",
      "(u'Bound (1996)', 5.0)\n",
      "(u'Fargo (1996)', 5.0)\n",
      "(u'Last Supper, The (1995)', 5.0)\n",
      "(u'Private Parts (1997)', 4.0)\n"
     ]
    }
   ],
   "source": [
    "topKRateTemp = sorted(moviesForUser, key=lambda rating: rating.rating, reverse=True)[:10]\n",
    "topKRating = [(titles[rating.product], rating.rating) for rating in topKRateTemp]\n",
    "for item in topKRating:\n",
    "    print item "
   ]
  },
  {
   "cell_type": "code",
   "execution_count": 118,
   "metadata": {
    "collapsed": false
   },
   "outputs": [
    {
     "name": "stdout",
     "output_type": "stream",
     "text": [
      "(u'Pulp Fiction (1994)', 6.072091732599815)\n",
      "(u'Hoop Dreams (1994)', 5.6514227162111075)\n",
      "(u'Fantasia (1940)', 5.458713568005688)\n",
      "(u'Wrong Trousers, The (1993)', 5.404534251556337)\n",
      "(u'Laura (1944)', 5.398141708644376)\n",
      "(u'Being There (1979)', 5.36904033650295)\n",
      "(u'GoodFellas (1990)', 5.2728616441310745)\n",
      "(u'Great Escape, The (1963)', 5.25214260675391)\n",
      "(u'Paths of Glory (1957)', 5.245544227971014)\n",
      "(u'Jackie Brown (1997)', 5.237747159323677)\n"
     ]
    }
   ],
   "source": [
    "topKRecsTemp = [(titles[rating.product], rating.rating) for rating in topKRecs]\n",
    "for item in topKRecsTemp:\n",
    "    print item"
   ]
  },
  {
   "cell_type": "code",
   "execution_count": 119,
   "metadata": {
    "collapsed": false
   },
   "outputs": [],
   "source": [
    "import numpy as np\n",
    "a = np.array([[1, 2, 3]])\n",
    "b = np.array([[1], [2], [3]])"
   ]
  },
  {
   "cell_type": "code",
   "execution_count": 120,
   "metadata": {
    "collapsed": false
   },
   "outputs": [
    {
     "data": {
      "text/plain": [
       "(3, 1)"
      ]
     },
     "execution_count": 120,
     "metadata": {},
     "output_type": "execute_result"
    }
   ],
   "source": [
    "b.shape"
   ]
  },
  {
   "cell_type": "code",
   "execution_count": 121,
   "metadata": {
    "collapsed": false
   },
   "outputs": [
    {
     "data": {
      "text/plain": [
       "array([[1, 2, 3],\n",
       "       [2, 4, 6],\n",
       "       [3, 6, 9]])"
      ]
     },
     "execution_count": 121,
     "metadata": {},
     "output_type": "execute_result"
    }
   ],
   "source": [
    "b.dot(a)"
   ]
  },
  {
   "cell_type": "code",
   "execution_count": 122,
   "metadata": {
    "collapsed": false
   },
   "outputs": [
    {
     "name": "stdout",
     "output_type": "stream",
     "text": [
      "13.0\n",
      "47\n"
     ]
    }
   ],
   "source": [
    "c = np.array([3,4,12])\n",
    "print np.linalg.norm(c)\n",
    "d = np.array([1, 2, 3])\n",
    "print np.dot(c, d)"
   ]
  },
  {
   "cell_type": "code",
   "execution_count": 123,
   "metadata": {
    "collapsed": true
   },
   "outputs": [],
   "source": [
    "# Assume the parameters are all 1-d ndarray\n",
    "def cosineSimilarity(vec1, vec2):\n",
    "    return np.dot(vec1, vec2)/(np.linalg.norm(vec1)*np.linalg.norm(vec2)) "
   ]
  },
  {
   "cell_type": "code",
   "execution_count": 124,
   "metadata": {
    "collapsed": false
   },
   "outputs": [
    {
     "data": {
      "text/plain": [
       "1.0"
      ]
     },
     "execution_count": 124,
     "metadata": {},
     "output_type": "execute_result"
    }
   ],
   "source": [
    "cosineSimilarity(c, c)"
   ]
  },
  {
   "cell_type": "code",
   "execution_count": 125,
   "metadata": {
    "collapsed": true
   },
   "outputs": [],
   "source": [
    "?RDD.lookup"
   ]
  },
  {
   "cell_type": "code",
   "execution_count": 126,
   "metadata": {
    "collapsed": false
   },
   "outputs": [
    {
     "data": {
      "text/plain": [
       "[2, 3]"
      ]
     },
     "execution_count": 126,
     "metadata": {},
     "output_type": "execute_result"
    }
   ],
   "source": [
    "rdd = sc.parallelize([(1,2), (1,3)],2)\n",
    "rdd.lookup(1)"
   ]
  },
  {
   "cell_type": "code",
   "execution_count": 127,
   "metadata": {
    "collapsed": true
   },
   "outputs": [],
   "source": [
    "itemId = 567\n",
    "# The lookup result only has one item, which is the item factor\n",
    "productFeatures = model.productFeatures()\n",
    "itemVector = productFeatures.lookup(itemId)[0]"
   ]
  },
  {
   "cell_type": "code",
   "execution_count": 128,
   "metadata": {
    "collapsed": false
   },
   "outputs": [
    {
     "data": {
      "text/plain": [
       "array('d', [0.5563952326774597, -1.3195445537567139, 0.5017154812812805, -1.0519071817398071, 0.1207687109708786, 1.0921560525894165, 1.0493335723876953, 0.169920414686203, -0.3367128372192383, 0.29174134135246277, -0.6380590796470642, -0.2363598793745041, -0.11442409455776215, 0.48553165793418884, -0.39993175864219666, -0.2569092810153961, -0.20009008049964905, -0.556082010269165, -0.8290324211120605, 0.4268662631511688, -0.4936608672142029, -0.23795197904109955, -0.01167504582554102, -0.743257462978363, 0.05048343911767006, 0.28117236495018005, 0.43247130513191223, -0.8349613547325134, -0.5094528198242188, -0.14459222555160522, 0.12706108391284943, 0.3807593286037445, 0.6460286378860474, -1.1465355157852173, 0.5278226733207703, -0.4089222550392151, 0.35782989859580994, 0.6055490374565125, -0.07761809229850769, 0.7262181639671326, -0.03011692315340042, 0.7424747943878174, 0.16959147155284882, -0.4313829243183136, -0.7806934714317322, -0.5186501741409302, -0.2848435044288635, 0.33342301845550537, 0.5230889916419983, 0.2402447611093521])"
      ]
     },
     "execution_count": 128,
     "metadata": {},
     "output_type": "execute_result"
    }
   ],
   "source": [
    "itemVector"
   ]
  },
  {
   "cell_type": "code",
   "execution_count": 129,
   "metadata": {
    "collapsed": false
   },
   "outputs": [
    {
     "data": {
      "text/plain": [
       "1.0000000000000002"
      ]
     },
     "execution_count": 129,
     "metadata": {},
     "output_type": "execute_result"
    }
   ],
   "source": [
    "cosineSimilarity(itemVector, itemVector)"
   ]
  },
  {
   "cell_type": "code",
   "execution_count": 130,
   "metadata": {
    "collapsed": true
   },
   "outputs": [],
   "source": [
    "sims = productFeatures.map(lambda itemFeature: (itemFeature[0], cosineSimilarity(itemFeature[1], itemVector)))"
   ]
  },
  {
   "cell_type": "code",
   "execution_count": 131,
   "metadata": {
    "collapsed": false
   },
   "outputs": [
    {
     "data": {
      "text/plain": [
       "(8, 0.46869606114429185)"
      ]
     },
     "execution_count": 131,
     "metadata": {},
     "output_type": "execute_result"
    }
   ],
   "source": [
    "sims.first()"
   ]
  },
  {
   "cell_type": "code",
   "execution_count": 132,
   "metadata": {
    "collapsed": false
   },
   "outputs": [],
   "source": [
    "sortedSims = sims.takeOrdered(K, key=lambda x: -x[1])"
   ]
  },
  {
   "cell_type": "code",
   "execution_count": 133,
   "metadata": {
    "collapsed": false
   },
   "outputs": [
    {
     "data": {
      "text/plain": [
       "[(567, 1.0),\n",
       " (1376, 0.73533062764883761),\n",
       " (109, 0.68299947257653049),\n",
       " (184, 0.6743430209778184),\n",
       " (563, 0.67019327145837748),\n",
       " (895, 0.66592212000650697),\n",
       " (288, 0.66528508112292306),\n",
       " (201, 0.6651246018441197),\n",
       " (295, 0.66485025177381052),\n",
       " (1083, 0.65384756783058751)]"
      ]
     },
     "execution_count": 133,
     "metadata": {},
     "output_type": "execute_result"
    }
   ],
   "source": [
    "sortedSims"
   ]
  },
  {
   "cell_type": "code",
   "execution_count": 134,
   "metadata": {
    "collapsed": false
   },
   "outputs": [
    {
     "data": {
      "text/plain": [
       "u\"Wes Craven's New Nightmare (1994)\""
      ]
     },
     "execution_count": 134,
     "metadata": {},
     "output_type": "execute_result"
    }
   ],
   "source": [
    "titles[itemId]"
   ]
  },
  {
   "cell_type": "code",
   "execution_count": 135,
   "metadata": {
    "collapsed": false
   },
   "outputs": [
    {
     "data": {
      "text/plain": [
       "[(u'Meet Wally Sparks (1997)', 0.73533062764883761),\n",
       " (u'Mystery Science Theater 3000: The Movie (1996)', 0.68299947257653049),\n",
       " (u'Army of Darkness (1993)', 0.6743430209778184),\n",
       " (u\"Stephen King's The Langoliers (1995)\", 0.67019327145837748),\n",
       " (u'Scream 2 (1997)', 0.66592212000650697),\n",
       " (u'Scream (1996)', 0.66528508112292306),\n",
       " (u'Evil Dead II (1987)', 0.66512460184411959),\n",
       " (u'Breakdown (1997)', 0.66485025177381052),\n",
       " (u'Albino Alligator (1996)', 0.65384756783058751),\n",
       " (u'S.F.W. (1994)', 0.65146395677244762)]"
      ]
     },
     "execution_count": 135,
     "metadata": {},
     "output_type": "execute_result"
    }
   ],
   "source": [
    "sortedSims2 = sims.takeOrdered(K+1, key=lambda x: -x[1])\n",
    "[(titles[item[0]], item[1]) for item in sortedSims2[1:]]"
   ]
  },
  {
   "cell_type": "code",
   "execution_count": 136,
   "metadata": {
    "collapsed": false
   },
   "outputs": [],
   "source": [
    "actualRating = moviesForUser[0]"
   ]
  },
  {
   "cell_type": "code",
   "execution_count": 137,
   "metadata": {
    "collapsed": false
   },
   "outputs": [],
   "source": [
    "predictedRating = model.predict(789, actualRating.product)"
   ]
  },
  {
   "cell_type": "code",
   "execution_count": 138,
   "metadata": {
    "collapsed": false
   },
   "outputs": [
    {
     "data": {
      "text/plain": [
       "3.955014581488941"
      ]
     },
     "execution_count": 138,
     "metadata": {},
     "output_type": "execute_result"
    }
   ],
   "source": [
    "predictedRating"
   ]
  },
  {
   "cell_type": "code",
   "execution_count": 139,
   "metadata": {
    "collapsed": true
   },
   "outputs": [],
   "source": [
    "squaredError = np.square(predictedRating - actualRating.rating)"
   ]
  },
  {
   "cell_type": "code",
   "execution_count": 140,
   "metadata": {
    "collapsed": false
   },
   "outputs": [
    {
     "data": {
      "text/plain": [
       "0.0020236878786151474"
      ]
     },
     "execution_count": 140,
     "metadata": {},
     "output_type": "execute_result"
    }
   ],
   "source": [
    "squaredError"
   ]
  },
  {
   "cell_type": "code",
   "execution_count": 141,
   "metadata": {
    "collapsed": false
   },
   "outputs": [
    {
     "data": {
      "text/plain": [
       "Rating(user=196, product=242, rating=3.0)"
      ]
     },
     "execution_count": 141,
     "metadata": {},
     "output_type": "execute_result"
    }
   ],
   "source": [
    "ratings.first()"
   ]
  },
  {
   "cell_type": "code",
   "execution_count": 142,
   "metadata": {
    "collapsed": false
   },
   "outputs": [],
   "source": [
    "usersProducts = ratings.map(lambda rating: (rating.user, rating.product))\n",
    "predictions = model.predictAll(usersProducts).map(lambda rating: ((rating.user, rating.product), rating.rating))"
   ]
  },
  {
   "cell_type": "code",
   "execution_count": 143,
   "metadata": {
    "collapsed": false
   },
   "outputs": [],
   "source": [
    "ratingsAndPredictions = ratings.map(lambda rating: ((rating.user, rating.product), rating.rating)).join(predictions)"
   ]
  },
  {
   "cell_type": "code",
   "execution_count": 144,
   "metadata": {
    "collapsed": false
   },
   "outputs": [
    {
     "data": {
      "text/plain": [
       "((360, 14), (5.0, 4.949261427802284))"
      ]
     },
     "execution_count": 144,
     "metadata": {},
     "output_type": "execute_result"
    }
   ],
   "source": [
    "ratingsAndPredictions.first()"
   ]
  },
  {
   "cell_type": "code",
   "execution_count": 145,
   "metadata": {
    "collapsed": true
   },
   "outputs": [],
   "source": [
    "MSE = ratingsAndPredictions.map(lambda x: np.square(x[1][0] - x[1][1])).reduce(lambda x, y: x+y)/ratingsAndPredictions.count()"
   ]
  },
  {
   "cell_type": "code",
   "execution_count": 146,
   "metadata": {
    "collapsed": false
   },
   "outputs": [
    {
     "data": {
      "text/plain": [
       "0.29105688243263866"
      ]
     },
     "execution_count": 146,
     "metadata": {},
     "output_type": "execute_result"
    }
   ],
   "source": [
    "np.sqrt(MSE)"
   ]
  },
  {
   "cell_type": "code",
   "execution_count": 147,
   "metadata": {
    "collapsed": false
   },
   "outputs": [
    {
     "name": "stdout",
     "output_type": "stream",
     "text": [
      "0 1\n",
      "1 2\n",
      "2 3\n"
     ]
    }
   ],
   "source": [
    "abc = [1,2,3]\n",
    "for i, a in enumerate(abc):\n",
    "    print i,a"
   ]
  },
  {
   "cell_type": "code",
   "execution_count": 148,
   "metadata": {
    "collapsed": true
   },
   "outputs": [],
   "source": [
    "def avgPrecisionK(actual, predicted, k):\n",
    "    predK = predicted[:k]\n",
    "    score = 0.0\n",
    "    numHits = 0.0\n",
    "    for i, p in enumerate(predK):\n",
    "        if p in actual:\n",
    "            numHits += 1.0\n",
    "            score += numHits / (i + 1.0)\n",
    "    if len(actual) == 0:\n",
    "        return 1.0\n",
    "    else:\n",
    "        return score/min(len(actual), k)"
   ]
  },
  {
   "cell_type": "code",
   "execution_count": 149,
   "metadata": {
    "collapsed": false
   },
   "outputs": [],
   "source": [
    "actualMovies = [rating.product for rating in moviesForUser]\n",
    "predictedMovies = [rating.product for rating in topKRecs]"
   ]
  },
  {
   "cell_type": "code",
   "execution_count": 150,
   "metadata": {
    "collapsed": false
   },
   "outputs": [
    {
     "data": {
      "text/plain": [
       "0.0"
      ]
     },
     "execution_count": 150,
     "metadata": {},
     "output_type": "execute_result"
    }
   ],
   "source": [
    "avgPrecisionK(actualMovies, predictedMovies, 10)"
   ]
  },
  {
   "cell_type": "code",
   "execution_count": 151,
   "metadata": {
    "collapsed": false
   },
   "outputs": [
    {
     "data": {
      "text/plain": [
       "(1682, 50)"
      ]
     },
     "execution_count": 151,
     "metadata": {},
     "output_type": "execute_result"
    }
   ],
   "source": [
    "itemFactors = model.productFeatures().map(lambda idAndFactor: idAndFactor[1]).collect()\n",
    "itemMatrix = np.array(itemFactors)\n",
    "itemMatrix.shape"
   ]
  },
  {
   "cell_type": "code",
   "execution_count": 152,
   "metadata": {
    "collapsed": true
   },
   "outputs": [],
   "source": [
    "imBroadcast = sc.broadcast(itemMatrix)"
   ]
  },
  {
   "cell_type": "code",
   "execution_count": 153,
   "metadata": {
    "collapsed": true
   },
   "outputs": [],
   "source": [
    "def getRecommendIds(userIdAndFactor):\n",
    "    userVector = np.array(userIdAndFactor[1])\n",
    "    scores = np.dot(imBroadcast.value, userVector)\n",
    "    sortedWithId = sorted([(score, i) for i, score in enumerate(scores)], key=lambda x: -x[0])\n",
    "    recommendedIds = [(index+1) for score, index in sortedWithId]\n",
    "    return (userIdAndFactor[0], recommendedIds)"
   ]
  },
  {
   "cell_type": "code",
   "execution_count": 154,
   "metadata": {
    "collapsed": true
   },
   "outputs": [],
   "source": [
    "allRecs = model.userFeatures().map(lambda userIdAndFactor: getRecommendIds(userIdAndFactor))"
   ]
  },
  {
   "cell_type": "code",
   "execution_count": 155,
   "metadata": {
    "collapsed": false
   },
   "outputs": [],
   "source": [
    "userMovies = ratings.map(lambda rating: (rating.user, rating.product)).groupBy(lambda x: x[0])"
   ]
  },
  {
   "cell_type": "code",
   "execution_count": 156,
   "metadata": {
    "collapsed": true
   },
   "outputs": [],
   "source": [
    "def getMAPK(k):\n",
    "    return allRecs.join(userMovies).map(lambda x: avgPrecisionK([y[1] for y in x[1][1]], x[1][0], k)).reduce(lambda x, y: x+y)/allRecs.count()"
   ]
  },
  {
   "cell_type": "code",
   "execution_count": 157,
   "metadata": {
    "collapsed": false
   },
   "outputs": [
    {
     "data": {
      "text/plain": [
       "0.03052757158006362"
      ]
     },
     "execution_count": 157,
     "metadata": {},
     "output_type": "execute_result"
    }
   ],
   "source": [
    "getMAPK(K)"
   ]
  },
  {
   "cell_type": "code",
   "execution_count": 158,
   "metadata": {
    "collapsed": true
   },
   "outputs": [],
   "source": [
    "from pyspark.mllib.evaluation import RegressionMetrics"
   ]
  },
  {
   "cell_type": "code",
   "execution_count": 159,
   "metadata": {
    "collapsed": false
   },
   "outputs": [],
   "source": [
    "predictedAndTrue = ratingsAndPredictions.map(lambda x: x[1])\n",
    "regressionMetrics = RegressionMetrics(predictedAndTrue)"
   ]
  },
  {
   "cell_type": "code",
   "execution_count": 160,
   "metadata": {
    "collapsed": false
   },
   "outputs": [
    {
     "name": "stdout",
     "output_type": "stream",
     "text": [
      "Mean Squared Error = 0.084714\n",
      "Root Mean Squared Error = 0.291057\n"
     ]
    }
   ],
   "source": [
    "print \"Mean Squared Error = %f\" % regressionMetrics.meanSquaredError\n",
    "print \"Root Mean Squared Error = %f\" % regressionMetrics.rootMeanSquaredError"
   ]
  },
  {
   "cell_type": "code",
   "execution_count": 161,
   "metadata": {
    "collapsed": true
   },
   "outputs": [],
   "source": [
    "from pyspark.mllib.evaluation import RankingMetrics"
   ]
  },
  {
   "cell_type": "code",
   "execution_count": 162,
   "metadata": {
    "collapsed": false
   },
   "outputs": [
    {
     "data": {
      "text/plain": [
       "[(2, 292)]"
      ]
     },
     "execution_count": 162,
     "metadata": {},
     "output_type": "execute_result"
    }
   ],
   "source": [
    "list(userMovies.first()[1])[:1]"
   ]
  },
  {
   "cell_type": "code",
   "execution_count": 163,
   "metadata": {
    "collapsed": true
   },
   "outputs": [],
   "source": [
    "predictedAndTrueForRanking = allRecs.join(userMovies).map(lambda x: (x[1][0], [y[1] for y in x[1][1]]))"
   ]
  },
  {
   "cell_type": "code",
   "execution_count": 164,
   "metadata": {
    "collapsed": false
   },
   "outputs": [
    {
     "name": "stdout",
     "output_type": "stream",
     "text": [
      "Mean Average Precision = 0.072257\n"
     ]
    }
   ],
   "source": [
    "rankingMetrics = RankingMetrics(predictedAndTrueForRanking)\n",
    "print \"Mean Average Precision = %f\" % rankingMetrics.meanAveragePrecision"
   ]
  },
  {
   "cell_type": "code",
   "execution_count": 165,
   "metadata": {
    "collapsed": false
   },
   "outputs": [
    {
     "data": {
      "text/plain": [
       "0.07225693265386815"
      ]
     },
     "execution_count": 165,
     "metadata": {},
     "output_type": "execute_result"
    }
   ],
   "source": [
    "getMAPK(2000)"
   ]
  }
 ],
 "metadata": {
  "kernelspec": {
   "display_name": "PySpark (Spark 1.6.1)",
   "language": "python",
   "name": "pyspark"
  },
  "language_info": {
   "codemirror_mode": {
    "name": "ipython",
    "version": 2
   },
   "file_extension": ".py",
   "mimetype": "text/x-python",
   "name": "python",
   "nbconvert_exporter": "python",
   "pygments_lexer": "ipython2",
   "version": "2.7.11"
  }
 },
 "nbformat": 4,
 "nbformat_minor": 0
}
